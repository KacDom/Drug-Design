{
 "cells": [
  {
   "cell_type": "code",
   "execution_count": 35,
   "metadata": {},
   "outputs": [],
   "source": [
    "import pandas as pd"
   ]
  },
  {
   "cell_type": "code",
   "execution_count": 36,
   "metadata": {},
   "outputs": [],
   "source": [
    "data_actives = pd.read_csv('actives_docked.csv')\n",
    "data_decoys = pd.read_csv('decoys_docked.csv')"
   ]
  },
  {
   "cell_type": "code",
   "execution_count": 37,
   "metadata": {},
   "outputs": [],
   "source": [
    "data_decoys['act_bin'] = 0\n",
    "data_actives['act_bin'] = 1"
   ]
  },
  {
   "cell_type": "code",
   "execution_count": 38,
   "metadata": {},
   "outputs": [],
   "source": [
    "#CONCATANATE\n",
    "data = pd.concat([data_actives, data_decoys])"
   ]
  },
  {
   "cell_type": "code",
   "execution_count": 39,
   "metadata": {},
   "outputs": [],
   "source": [
    "data = data[['name', 'score', 'act_bin']]"
   ]
  },
  {
   "cell_type": "code",
   "execution_count": 40,
   "metadata": {},
   "outputs": [],
   "source": [
    "data = data.sort_values('score', ascending=True)"
   ]
  },
  {
   "cell_type": "code",
   "execution_count": 41,
   "metadata": {},
   "outputs": [],
   "source": [
    "#Przyczyna błędu!!!\n",
    "data = data.drop_duplicates('name')"
   ]
  },
  {
   "cell_type": "code",
   "execution_count": 47,
   "metadata": {},
   "outputs": [],
   "source": [
    "predict = (data['score']).tolist()\n",
    "experim = (data['act_bin']).tolist()"
   ]
  },
  {
   "cell_type": "code",
   "execution_count": 28,
   "metadata": {},
   "outputs": [],
   "source": [
    "from sklearn.metrics import roc_curve, auc\n",
    "import matplotlib.pyplot as plt"
   ]
  },
  {
   "cell_type": "code",
   "execution_count": 29,
   "metadata": {},
   "outputs": [],
   "source": [
    "fpr, tpr, thresh = roc_curve(experim, predict) # do wyliczania krzywej ROC \n",
    "roc_auc = auc(fpr,tpr) # do wyliczania powierzchni pod krzywa"
   ]
  },
  {
   "cell_type": "code",
   "execution_count": 30,
   "metadata": {},
   "outputs": [
    {
     "data": {
      "image/png": "[encoded data removed]",
      "text/plain": [
       "<Figure size 432x288 with 1 Axes>"
      ]
     },
     "metadata": {
      "needs_background": "light"
     },
     "output_type": "display_data"
    }
   ],
   "source": [
    "plt.title(\"ROC\")\n",
    "plt.plot(fpr,tpr, 'b', label=\"AUC = %.2f\" % roc_auc)\n",
    "plt.legend(loc='lower right')\n",
    "plt.plot([0,1],[0,1], 'r--')\n",
    "plt.xlabel(\"FPR\")\n",
    "plt.ylabel(\"TPR\")\n",
    "\n",
    "plt.show()"
   ]
  },
  {
   "cell_type": "code",
   "execution_count": 52,
   "metadata": {},
   "outputs": [
    {
     "data": {
      "image/png": "[encoded data removed]",
      "text/plain": [
       "<Figure size 432x288 with 1 Axes>"
      ]
     },
     "metadata": {
      "needs_background": "light"
     },
     "output_type": "display_data"
    }
   ],
   "source": [
    "predict = (-data['score']).tolist()\n",
    "\n",
    "fpr, tpr, thresh = roc_curve(experim, predict)\n",
    "roc_auc = auc(fpr,tpr) \n",
    "\n",
    "plt.title(\"ROC\")\n",
    "plt.plot(fpr,tpr, 'b', label=\"AUC = %.2f\" % roc_auc)\n",
    "plt.legend(loc='lower right')\n",
    "plt.plot([0,1],[0,1], 'r--')\n",
    "plt.xlabel(\"FPR\")\n",
    "plt.ylabel(\"TPR\")\n",
    "\n",
    "plt.show()\n",
    "#TRP - pstwo wykrycia aktywnosci\n",
    "#FPR - pstwo falszywego wykrycia aktywnoscig"
   ]
  },
  {
   "cell_type": "code",
   "execution_count": 83,
   "metadata": {},
   "outputs": [
    {
     "name": "stdout",
     "output_type": "stream",
     "text": [
      "EF1%:    EF1%max:\n"
     ]
    },
    {
     "data": {
      "text/plain": [
       "(20.0, 100.0)"
      ]
     },
     "execution_count": 83,
     "metadata": {},
     "output_type": "execute_result"
    }
   ],
   "source": [
    "'''1. Napisz skrypt do wyliczania współczynnika wzbogacania (EF)\n",
    "jako input użytkownik podaje ile jest TP, ile jest wszystkich molekuł oraz ile TP znalezione pierwszym % listy.\n",
    "jako output skrypt podaje jaki jest EF1% dla tych danych oraz maksymalny EF1% jaki można było uzyskać.'''\n",
    "import math\n",
    "#TP = ile jest wszystkich molekuł prawdziwych\n",
    "#N - ile jest wszystkich molekul\n",
    "#tp_proc - ile jest TP znalezione w pierwszym % listy\n",
    "#proc - odsetek prawdziwych\n",
    "\n",
    "\n",
    "def EF_proc(tp: int, N: int, tp_proc: int, proc = 1):\n",
    "    prop_size = math.floor(proc/100 * N)\n",
    "    if tp_proc > prop_size: \n",
    "        return print(f'Prosze podac poprawna wartosc tp_proc, N i % dla EF -> W {proc}% listy jest wiecej TP niz elementow')\n",
    "    \n",
    "    print(f'EF{proc}%:    EF{proc}%max:')\n",
    "    return tp_proc/prop_size * N / tp, min(tp, prop_size)/prop_size *  N / tp\n",
    "\n",
    "EF_proc(10, 1000, 2)\n"
   ]
  },
  {
   "cell_type": "raw",
   "metadata": {},
   "source": [
    "2. Wyjaśnij czy można porównywać EF tej samej metody zastosowanej do danych różnej wielkości (np. dwóch baz danych o innej proporcji aktywnych i nieaktywnych cząsteczek).\n",
    "\n",
    "Odp: Moim zdaniem można porównywać EF tej samej metody zastosowanej do danych o różnej wielkości, lecz wartość tego porównania będzie zależeć od tego jak bardzo różniły się będą te zbiory danych. W przypadku zbioru danych o małej liczbie cząsteczek i wysokim odsetku cząsteczek aktywnych EF będzie niższy, ponieważ prawdopodobieństwo wylosowania cząsteczki w całym zbiorze danych jest wysokie. Za to w przypadku zbioru danych o dużej liczbie cząsteczek i małej ilości molekuł aktywnych EF może być bardzo wysoki (w przypadku poprawnej metody sortowania), ponieważ prawdopodobieństwo wylosowania aktywnej cząsteczki w całym zbiorze danch jest niskie. Myśle, że przed porównaniem EF tej samej metody należy zapoznać się z zbiorami danych i sprawdzić czym i jak bardzo się różnią."
   ]
  }
 ],
 "metadata": {
  "anaconda-cloud": {},
  "kernelspec": {
   "display_name": "Python 3",
   "language": "python",
   "name": "python3"
  },
  "language_info": {
   "codemirror_mode": {
    "name": "ipython",
    "version": 3
   },
   "file_extension": ".py",
   "mimetype": "text/x-python",
   "name": "python",
   "nbconvert_exporter": "python",
   "pygments_lexer": "ipython3",
   "version": "3.7.0"
  }
 },
 "nbformat": 4,
 "nbformat_minor": 1
}
